{
 "cells": [
  {
   "cell_type": "code",
   "execution_count": null,
   "metadata": {},
   "outputs": [],
   "source": [
    "import os\n",
    "import sys\n",
    "import numpy as np\n",
    "\n",
    "myPath = os.path.dirname(os.path.abspath(\"../sgains/sgains\"))\n",
    "sys.path.insert(0, myPath)\n",
    "\n",
    "from solutions import Solutions\n",
    "from plotter import PlotGains\n",
    "\n",
    "import logging\n",
    "logging.getLogger().setLevel(\n",
    "    logging.INFO\n",
    ")  # replace INFO with CRITICAL to disable all log messages"
   ]
  },
  {
   "cell_type": "code",
   "execution_count": null,
   "metadata": {},
   "outputs": [],
   "source": [
    "level='dd'"
   ]
  },
  {
   "cell_type": "code",
   "execution_count": null,
   "metadata": {},
   "outputs": [],
   "source": [
    "if level=='di':\n",
    "    solution_files = \"/home/users/chege/mysoftware/sgains/notebooks/data/solutions_files_l246297.txt\"\n",
    "    sample_ms = \"/net/node115/data/users/lofareor/chege/NCP/redshift1/L246297/L246297_SAP000_SB224_uv_002_nxt.MS/\"\n",
    "    cluster_file = \"/home/users/chege/theleap/leap/models/rescaled_new3c61.sky.txt.cluster\"\n",
    "    cluster_id = 0\n",
    "    clusters_to_plot = \"0,1\"\n",
    "    cluster_names = None#\"'NCP','3C61.1'\"\n",
    "\n",
    "elif level == 'dd':\n",
    "\n",
    "    solution_files = \"/home/users/chege/mysoftware/sgains/notebooks/data/solutions_files_dd.txt\"  # \"/home/users/chege/mysoftware/sgains/notebooks/data/solutions_files_dd_l254871.txt\"  #\n",
    "    sample_ms = \"/net/node115/data/users/lofareor/chege/NCP/redshift1/L246297/L246297_SAP000_SB224_uv_003_nxt.MS/\"  # \"/home/users/chege/mysoftware/sgains/notebooks/data/solutions_files_dd_l254871.txt\"  #\n",
    "    cluster_file = \"/home/users/chege/theleap/leap/models/sky_sagecal_no_diffuse_new_cluster_time_remove_outer_simple_ateam_new3c61.txt.cluster\"\n",
    "    cluster_id = 0\n",
    "    clusters_to_plot = \"1,4,24,5,13,106,10,51,96,40,84,91,30,105\"\n",
    "    cluster_names = \"'~NCP','3C61.1','3deg','4deg','5deg','6deg','7deg','8deg','9deg','10deg','11deg','14deg','Cas-A','Cyg-A'\"\n",
    "else:\n",
    "    raise(\"can only di or dd\")\n",
    "\n",
    "stations_to_plot = \"0,5,10,20,40,50,55\""
   ]
  },
  {
   "cell_type": "code",
   "execution_count": null,
   "metadata": {},
   "outputs": [],
   "source": [
    "sols = Solutions(cluster_file=cluster_file, sample_ms=sample_ms, solsfiles=solution_files)"
   ]
  },
  {
   "cell_type": "code",
   "execution_count": null,
   "metadata": {},
   "outputs": [],
   "source": [
    "sols.plot.clusters_delays_grid(pol=\"XX\")"
   ]
  },
  {
   "cell_type": "code",
   "execution_count": null,
   "metadata": {},
   "outputs": [],
   "source": [
    "sols.plot.gains_tseries(cluster_id=cluster_id)"
   ]
  },
  {
   "cell_type": "code",
   "execution_count": null,
   "metadata": {},
   "outputs": [],
   "source": [
    "sols.plot.gains_spectra(cluster_id=cluster_id)"
   ]
  },
  {
   "cell_type": "code",
   "execution_count": null,
   "metadata": {},
   "outputs": [],
   "source": [
    "sols.plot.stations_delays(cluster_id=cluster_id)\n",
    "# dashed ones are remote stations"
   ]
  },
  {
   "cell_type": "code",
   "execution_count": null,
   "metadata": {},
   "outputs": [],
   "source": [
    "sols.plot.stations_gains_grid(cluster_id=cluster_id, ylims=[-0.3, 2])"
   ]
  },
  {
   "cell_type": "code",
   "execution_count": null,
   "metadata": {},
   "outputs": [],
   "source": [
    "sols.plot.stations_gains_grid(cluster_id=85, ylims=[-0.3, 2], pols=None)"
   ]
  },
  {
   "cell_type": "code",
   "execution_count": null,
   "metadata": {},
   "outputs": [],
   "source": [
    "station_pairs = [(0, 1), (5, 8), (15, 18), (36, 39), (52, 55), (55, 59)]\n",
    "sols.plot.baselines_abs_and_phase(station_pairs, cluster_id=0)"
   ]
  },
  {
   "cell_type": "code",
   "execution_count": null,
   "metadata": {},
   "outputs": [],
   "source": [
    "fig = sols.plot.mean_and_std(cluster_id=0, avg_type='stations', n_time_avg=10)\n"
   ]
  },
  {
   "cell_type": "code",
   "execution_count": null,
   "metadata": {},
   "outputs": [],
   "source": [
    "fig = sols.plot.mean_and_std(cluster_id=0, n_time_avg=40, avg_type=\"frequency\")"
   ]
  },
  {
   "cell_type": "code",
   "execution_count": null,
   "metadata": {},
   "outputs": [],
   "source": [
    "fig = sols.plot.dynamic_spectra(\n",
    "    gain_data=sols.gains_dict,\n",
    "    dd_stations=stations_to_plot,\n",
    "    dd_clusters=clusters_to_plot,\n",
    "    clusters_names=cluster_names,\n",
    "    vmin=0.1,\n",
    "    vmax=10,\n",
    ")"
   ]
  },
  {
   "cell_type": "code",
   "execution_count": null,
   "metadata": {},
   "outputs": [],
   "source": [
    "fig = sols.plot.dynamic_spectra(\n",
    "    gain_data=sols.gains_dict,\n",
    "    dd_stations=stations_to_plot,\n",
    "    dd_clusters=clusters_to_plot,\n",
    "    clusters_names=cluster_names,\n",
    "    action_fct=np.angle,\n",
    "    log_norm=False,\n",
    "    vmin=-np.pi,\n",
    "    vmax=np.pi\n",
    ")"
   ]
  },
  {
   "cell_type": "code",
   "execution_count": null,
   "metadata": {},
   "outputs": [],
   "source": [
    "fig = sols.plot.cluster_stats(sols.gains_dict, pol=\"XX\")"
   ]
  },
  {
   "cell_type": "code",
   "execution_count": null,
   "metadata": {},
   "outputs": [],
   "source": [
    "fig = sols.plot.stations_stats(sols.gains_dict, pol=\"XX\")"
   ]
  },
  {
   "cell_type": "code",
   "execution_count": null,
   "metadata": {},
   "outputs": [],
   "source": [
    "dd_sky_model = \"/home/users/chege/theleap/leap/models/sky_sagecal_no_diffuse_simple_ateam_corrected_shape.txt\"\n",
    "cluster_info = sols.get_clusters_details(dd_sky_model)"
   ]
  },
  {
   "cell_type": "code",
   "execution_count": null,
   "metadata": {},
   "outputs": [],
   "source": [
    "bad_clusters = [5, 10, 25, 30, 32, 38, 39, 40, 44, 45, 48, 50, 51, 53, 56, 59, 63, 64, 66, 67, 72, 78, 79, 80] + list(range(83, 108))\n",
    "\n",
    "fig3 = sols.plot.cluster_gains_noise(\n",
    "    sols.gains_dict, clusters_info=cluster_info, station=sols.stations[30], pol=\"YY\", peculiar_clusters=bad_clusters\n",
    ")"
   ]
  }
 ],
 "metadata": {
  "kernelspec": {
   "display_name": "py310",
   "language": "python",
   "name": "python3"
  },
  "language_info": {
   "codemirror_mode": {
    "name": "ipython",
    "version": 3
   },
   "file_extension": ".py",
   "mimetype": "text/x-python",
   "name": "python",
   "nbconvert_exporter": "python",
   "pygments_lexer": "ipython3",
   "version": "3.10.8"
  }
 },
 "nbformat": 4,
 "nbformat_minor": 2
}
